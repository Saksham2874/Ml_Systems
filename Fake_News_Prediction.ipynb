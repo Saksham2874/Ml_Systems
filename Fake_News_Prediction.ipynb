{
  "nbformat": 4,
  "nbformat_minor": 0,
  "metadata": {
    "colab": {
      "provenance": [],
      "authorship_tag": "ABX9TyPWrU/iqKxpPJZjueA5iHNw",
      "include_colab_link": true
    },
    "kernelspec": {
      "name": "python3",
      "display_name": "Python 3"
    },
    "language_info": {
      "name": "python"
    }
  },
  "cells": [
    {
      "cell_type": "markdown",
      "metadata": {
        "id": "view-in-github",
        "colab_type": "text"
      },
      "source": [
        "<a href=\"https://colab.research.google.com/github/Saksham2874/Ml_Systems/blob/main/Fake_News_Prediction.ipynb\" target=\"_parent\"><img src=\"https://colab.research.google.com/assets/colab-badge.svg\" alt=\"Open In Colab\"/></a>"
      ]
    },
    {
      "cell_type": "code",
      "execution_count": 18,
      "metadata": {
        "id": "PhQXbFJQ2N3Z"
      },
      "outputs": [],
      "source": [
        "import numpy as np\n",
        "import pandas as pd\n",
        "import re # for searching words in a text or para\n",
        "# nltk ~ natural language toolkit\n",
        "from nltk.corpus import stopwords # for removing unwanted words like the,is,etc\n",
        "from nltk.stem.porter import PorterStemmer # used to stem words ~ gives root/base word of any particular word\n",
        "from sklearn.feature_extraction.text import TfidfVectorizer # (Tfidf ~ Term Frequency–Inverse Document Frequency) transforms text into a numerical representation that shows how important a word is in a document relative to the entire dataset.\n",
        "from sklearn.model_selection import train_test_split # split dataset into train and test data\n",
        "from sklearn.linear_model import LogisticRegression\n",
        "from sklearn.metrics import accuracy_score\n",
        "from datasets import load_dataset"
      ]
    },
    {
      "cell_type": "code",
      "source": [
        "import nltk\n",
        "nltk.download('stopwords')"
      ],
      "metadata": {
        "colab": {
          "base_uri": "https://localhost:8080/"
        },
        "id": "TcIM-cLNJFhh",
        "outputId": "84234623-aa45-4a5b-bfc3-a7c1b676bde8"
      },
      "execution_count": 7,
      "outputs": [
        {
          "output_type": "stream",
          "name": "stderr",
          "text": [
            "[nltk_data] Downloading package stopwords to /root/nltk_data...\n",
            "[nltk_data]   Package stopwords is already up-to-date!\n"
          ]
        },
        {
          "output_type": "execute_result",
          "data": {
            "text/plain": [
              "True"
            ]
          },
          "metadata": {},
          "execution_count": 7
        }
      ]
    },
    {
      "cell_type": "code",
      "source": [
        "# words that 'stopwords' removes from the dataset\n",
        "print(stopwords.words('english'))\n",
        "# these words dont have any value to our dataset, so during stemming procedure we'll remove these stopwords from the dataset"
      ],
      "metadata": {
        "colab": {
          "base_uri": "https://localhost:8080/"
        },
        "id": "XF7JkJTP7BVj",
        "outputId": "a569e4e9-205f-479f-a807-5296895f56d1"
      },
      "execution_count": 5,
      "outputs": [
        {
          "output_type": "stream",
          "name": "stdout",
          "text": [
            "['a', 'about', 'above', 'after', 'again', 'against', 'ain', 'all', 'am', 'an', 'and', 'any', 'are', 'aren', \"aren't\", 'as', 'at', 'be', 'because', 'been', 'before', 'being', 'below', 'between', 'both', 'but', 'by', 'can', 'couldn', \"couldn't\", 'd', 'did', 'didn', \"didn't\", 'do', 'does', 'doesn', \"doesn't\", 'doing', 'don', \"don't\", 'down', 'during', 'each', 'few', 'for', 'from', 'further', 'had', 'hadn', \"hadn't\", 'has', 'hasn', \"hasn't\", 'have', 'haven', \"haven't\", 'having', 'he', \"he'd\", \"he'll\", 'her', 'here', 'hers', 'herself', \"he's\", 'him', 'himself', 'his', 'how', 'i', \"i'd\", 'if', \"i'll\", \"i'm\", 'in', 'into', 'is', 'isn', \"isn't\", 'it', \"it'd\", \"it'll\", \"it's\", 'its', 'itself', \"i've\", 'just', 'll', 'm', 'ma', 'me', 'mightn', \"mightn't\", 'more', 'most', 'mustn', \"mustn't\", 'my', 'myself', 'needn', \"needn't\", 'no', 'nor', 'not', 'now', 'o', 'of', 'off', 'on', 'once', 'only', 'or', 'other', 'our', 'ours', 'ourselves', 'out', 'over', 'own', 're', 's', 'same', 'shan', \"shan't\", 'she', \"she'd\", \"she'll\", \"she's\", 'should', 'shouldn', \"shouldn't\", \"should've\", 'so', 'some', 'such', 't', 'than', 'that', \"that'll\", 'the', 'their', 'theirs', 'them', 'themselves', 'then', 'there', 'these', 'they', \"they'd\", \"they'll\", \"they're\", \"they've\", 'this', 'those', 'through', 'to', 'too', 'under', 'until', 'up', 've', 'very', 'was', 'wasn', \"wasn't\", 'we', \"we'd\", \"we'll\", \"we're\", 'were', 'weren', \"weren't\", \"we've\", 'what', 'when', 'where', 'which', 'while', 'who', 'whom', 'why', 'will', 'with', 'won', \"won't\", 'wouldn', \"wouldn't\", 'y', 'you', \"you'd\", \"you'll\", 'your', \"you're\", 'yours', 'yourself', 'yourselves', \"you've\"]\n"
          ]
        }
      ]
    },
    {
      "cell_type": "markdown",
      "source": [
        "Datacollection and Pre-processing"
      ],
      "metadata": {
        "id": "jCznbidX7twB"
      }
    },
    {
      "cell_type": "code",
      "source": [
        "splits = {'train': 'train.tsv', 'validation': 'validation.tsv', 'test': 'test.tsv'}\n",
        "try:\n",
        "    news_dataset = pd.read_csv(\"hf://datasets/ErfanMoosaviMonazzah/fake-news-detection-dataset-English/\" + splits[\"train\"], sep=\"\\t\")\n",
        "except Exception as e:\n",
        "    print(f\"Error loading the dataset: {e}\")\n",
        "    print(\"Please ensure the dataset is accessible and the file path is correct.\")"
      ],
      "metadata": {
        "id": "z1i-tV-Q7U3k"
      },
      "execution_count": 28,
      "outputs": []
    },
    {
      "cell_type": "code",
      "source": [
        "news_dataset.shape"
      ],
      "metadata": {
        "colab": {
          "base_uri": "https://localhost:8080/"
        },
        "id": "RrvdWNpw8aH_",
        "outputId": "d4366b7d-2e98-49f3-ec02-83e3a024cc8e"
      },
      "execution_count": 29,
      "outputs": [
        {
          "output_type": "execute_result",
          "data": {
            "text/plain": [
              "(30000, 6)"
            ]
          },
          "metadata": {},
          "execution_count": 29
        }
      ]
    },
    {
      "cell_type": "code",
      "source": [
        "news_dataset.head()"
      ],
      "metadata": {
        "colab": {
          "base_uri": "https://localhost:8080/",
          "height": 206
        },
        "id": "MC4G89PNC48d",
        "outputId": "3a09ba89-32de-43a2-b9ac-98ecee9c532e"
      },
      "execution_count": 30,
      "outputs": [
        {
          "output_type": "execute_result",
          "data": {
            "text/plain": [
              "   Unnamed: 0                                              title  \\\n",
              "0        2619  Ex-CIA head says Trump remarks on Russia inter...   \n",
              "1       16043  YOU WON’T BELIEVE HIS PUNISHMENT! HISPANIC STO...   \n",
              "2         876  Federal Reserve governor Powell's policy views...   \n",
              "3       19963  SCOUNDREL HILLARY SUPPORTER STARTS “TrumpLeaks...   \n",
              "4       10783  NANCY PELOSI ARROGANTLY DISMISSES Questions on...   \n",
              "\n",
              "                                                text          subject  \\\n",
              "0  Former CIA director John Brennan on Friday cri...     politicsNews   \n",
              "1  How did this man come to OWN this store? There...  Government News   \n",
              "2  President Donald Trump on Thursday tapped Fede...     politicsNews   \n",
              "3  Hillary Clinton ally David Brock is offering t...        left-news   \n",
              "4  Pleading ignorance is a perfect ploy for Nancy...         politics   \n",
              "\n",
              "                date  label  \n",
              "0     July 22, 2017       1  \n",
              "1       Jun 19, 2017      0  \n",
              "2  November 2, 2017       1  \n",
              "3       Sep 17, 2016      0  \n",
              "4       May 26, 2017      0  "
            ],
            "text/html": [
              "\n",
              "  <div id=\"df-49dfb9dd-ad16-49c7-8323-055488b6de93\" class=\"colab-df-container\">\n",
              "    <div>\n",
              "<style scoped>\n",
              "    .dataframe tbody tr th:only-of-type {\n",
              "        vertical-align: middle;\n",
              "    }\n",
              "\n",
              "    .dataframe tbody tr th {\n",
              "        vertical-align: top;\n",
              "    }\n",
              "\n",
              "    .dataframe thead th {\n",
              "        text-align: right;\n",
              "    }\n",
              "</style>\n",
              "<table border=\"1\" class=\"dataframe\">\n",
              "  <thead>\n",
              "    <tr style=\"text-align: right;\">\n",
              "      <th></th>\n",
              "      <th>Unnamed: 0</th>\n",
              "      <th>title</th>\n",
              "      <th>text</th>\n",
              "      <th>subject</th>\n",
              "      <th>date</th>\n",
              "      <th>label</th>\n",
              "    </tr>\n",
              "  </thead>\n",
              "  <tbody>\n",
              "    <tr>\n",
              "      <th>0</th>\n",
              "      <td>2619</td>\n",
              "      <td>Ex-CIA head says Trump remarks on Russia inter...</td>\n",
              "      <td>Former CIA director John Brennan on Friday cri...</td>\n",
              "      <td>politicsNews</td>\n",
              "      <td>July 22, 2017</td>\n",
              "      <td>1</td>\n",
              "    </tr>\n",
              "    <tr>\n",
              "      <th>1</th>\n",
              "      <td>16043</td>\n",
              "      <td>YOU WON’T BELIEVE HIS PUNISHMENT! HISPANIC STO...</td>\n",
              "      <td>How did this man come to OWN this store? There...</td>\n",
              "      <td>Government News</td>\n",
              "      <td>Jun 19, 2017</td>\n",
              "      <td>0</td>\n",
              "    </tr>\n",
              "    <tr>\n",
              "      <th>2</th>\n",
              "      <td>876</td>\n",
              "      <td>Federal Reserve governor Powell's policy views...</td>\n",
              "      <td>President Donald Trump on Thursday tapped Fede...</td>\n",
              "      <td>politicsNews</td>\n",
              "      <td>November 2, 2017</td>\n",
              "      <td>1</td>\n",
              "    </tr>\n",
              "    <tr>\n",
              "      <th>3</th>\n",
              "      <td>19963</td>\n",
              "      <td>SCOUNDREL HILLARY SUPPORTER STARTS “TrumpLeaks...</td>\n",
              "      <td>Hillary Clinton ally David Brock is offering t...</td>\n",
              "      <td>left-news</td>\n",
              "      <td>Sep 17, 2016</td>\n",
              "      <td>0</td>\n",
              "    </tr>\n",
              "    <tr>\n",
              "      <th>4</th>\n",
              "      <td>10783</td>\n",
              "      <td>NANCY PELOSI ARROGANTLY DISMISSES Questions on...</td>\n",
              "      <td>Pleading ignorance is a perfect ploy for Nancy...</td>\n",
              "      <td>politics</td>\n",
              "      <td>May 26, 2017</td>\n",
              "      <td>0</td>\n",
              "    </tr>\n",
              "  </tbody>\n",
              "</table>\n",
              "</div>\n",
              "    <div class=\"colab-df-buttons\">\n",
              "\n",
              "  <div class=\"colab-df-container\">\n",
              "    <button class=\"colab-df-convert\" onclick=\"convertToInteractive('df-49dfb9dd-ad16-49c7-8323-055488b6de93')\"\n",
              "            title=\"Convert this dataframe to an interactive table.\"\n",
              "            style=\"display:none;\">\n",
              "\n",
              "  <svg xmlns=\"http://www.w3.org/2000/svg\" height=\"24px\" viewBox=\"0 -960 960 960\">\n",
              "    <path d=\"M120-120v-720h720v720H120Zm60-500h600v-160H180v160Zm220 220h160v-160H400v160Zm0 220h160v-160H400v160ZM180-400h160v-160H180v160Zm440 0h160v-160H620v160ZM180-180h160v-160H180v160Zm440 0h160v-160H620v160Z\"/>\n",
              "  </svg>\n",
              "    </button>\n",
              "\n",
              "  <style>\n",
              "    .colab-df-container {\n",
              "      display:flex;\n",
              "      gap: 12px;\n",
              "    }\n",
              "\n",
              "    .colab-df-convert {\n",
              "      background-color: #E8F0FE;\n",
              "      border: none;\n",
              "      border-radius: 50%;\n",
              "      cursor: pointer;\n",
              "      display: none;\n",
              "      fill: #1967D2;\n",
              "      height: 32px;\n",
              "      padding: 0 0 0 0;\n",
              "      width: 32px;\n",
              "    }\n",
              "\n",
              "    .colab-df-convert:hover {\n",
              "      background-color: #E2EBFA;\n",
              "      box-shadow: 0px 1px 2px rgba(60, 64, 67, 0.3), 0px 1px 3px 1px rgba(60, 64, 67, 0.15);\n",
              "      fill: #174EA6;\n",
              "    }\n",
              "\n",
              "    .colab-df-buttons div {\n",
              "      margin-bottom: 4px;\n",
              "    }\n",
              "\n",
              "    [theme=dark] .colab-df-convert {\n",
              "      background-color: #3B4455;\n",
              "      fill: #D2E3FC;\n",
              "    }\n",
              "\n",
              "    [theme=dark] .colab-df-convert:hover {\n",
              "      background-color: #434B5C;\n",
              "      box-shadow: 0px 1px 3px 1px rgba(0, 0, 0, 0.15);\n",
              "      filter: drop-shadow(0px 1px 2px rgba(0, 0, 0, 0.3));\n",
              "      fill: #FFFFFF;\n",
              "    }\n",
              "  </style>\n",
              "\n",
              "    <script>\n",
              "      const buttonEl =\n",
              "        document.querySelector('#df-49dfb9dd-ad16-49c7-8323-055488b6de93 button.colab-df-convert');\n",
              "      buttonEl.style.display =\n",
              "        google.colab.kernel.accessAllowed ? 'block' : 'none';\n",
              "\n",
              "      async function convertToInteractive(key) {\n",
              "        const element = document.querySelector('#df-49dfb9dd-ad16-49c7-8323-055488b6de93');\n",
              "        const dataTable =\n",
              "          await google.colab.kernel.invokeFunction('convertToInteractive',\n",
              "                                                    [key], {});\n",
              "        if (!dataTable) return;\n",
              "\n",
              "        const docLinkHtml = 'Like what you see? Visit the ' +\n",
              "          '<a target=\"_blank\" href=https://colab.research.google.com/notebooks/data_table.ipynb>data table notebook</a>'\n",
              "          + ' to learn more about interactive tables.';\n",
              "        element.innerHTML = '';\n",
              "        dataTable['output_type'] = 'display_data';\n",
              "        await google.colab.output.renderOutput(dataTable, element);\n",
              "        const docLink = document.createElement('div');\n",
              "        docLink.innerHTML = docLinkHtml;\n",
              "        element.appendChild(docLink);\n",
              "      }\n",
              "    </script>\n",
              "  </div>\n",
              "\n",
              "\n",
              "    <div id=\"df-3dd6dc8e-fcf6-4975-ad23-124f8e6f0660\">\n",
              "      <button class=\"colab-df-quickchart\" onclick=\"quickchart('df-3dd6dc8e-fcf6-4975-ad23-124f8e6f0660')\"\n",
              "                title=\"Suggest charts\"\n",
              "                style=\"display:none;\">\n",
              "\n",
              "<svg xmlns=\"http://www.w3.org/2000/svg\" height=\"24px\"viewBox=\"0 0 24 24\"\n",
              "     width=\"24px\">\n",
              "    <g>\n",
              "        <path d=\"M19 3H5c-1.1 0-2 .9-2 2v14c0 1.1.9 2 2 2h14c1.1 0 2-.9 2-2V5c0-1.1-.9-2-2-2zM9 17H7v-7h2v7zm4 0h-2V7h2v10zm4 0h-2v-4h2v4z\"/>\n",
              "    </g>\n",
              "</svg>\n",
              "      </button>\n",
              "\n",
              "<style>\n",
              "  .colab-df-quickchart {\n",
              "      --bg-color: #E8F0FE;\n",
              "      --fill-color: #1967D2;\n",
              "      --hover-bg-color: #E2EBFA;\n",
              "      --hover-fill-color: #174EA6;\n",
              "      --disabled-fill-color: #AAA;\n",
              "      --disabled-bg-color: #DDD;\n",
              "  }\n",
              "\n",
              "  [theme=dark] .colab-df-quickchart {\n",
              "      --bg-color: #3B4455;\n",
              "      --fill-color: #D2E3FC;\n",
              "      --hover-bg-color: #434B5C;\n",
              "      --hover-fill-color: #FFFFFF;\n",
              "      --disabled-bg-color: #3B4455;\n",
              "      --disabled-fill-color: #666;\n",
              "  }\n",
              "\n",
              "  .colab-df-quickchart {\n",
              "    background-color: var(--bg-color);\n",
              "    border: none;\n",
              "    border-radius: 50%;\n",
              "    cursor: pointer;\n",
              "    display: none;\n",
              "    fill: var(--fill-color);\n",
              "    height: 32px;\n",
              "    padding: 0;\n",
              "    width: 32px;\n",
              "  }\n",
              "\n",
              "  .colab-df-quickchart:hover {\n",
              "    background-color: var(--hover-bg-color);\n",
              "    box-shadow: 0 1px 2px rgba(60, 64, 67, 0.3), 0 1px 3px 1px rgba(60, 64, 67, 0.15);\n",
              "    fill: var(--button-hover-fill-color);\n",
              "  }\n",
              "\n",
              "  .colab-df-quickchart-complete:disabled,\n",
              "  .colab-df-quickchart-complete:disabled:hover {\n",
              "    background-color: var(--disabled-bg-color);\n",
              "    fill: var(--disabled-fill-color);\n",
              "    box-shadow: none;\n",
              "  }\n",
              "\n",
              "  .colab-df-spinner {\n",
              "    border: 2px solid var(--fill-color);\n",
              "    border-color: transparent;\n",
              "    border-bottom-color: var(--fill-color);\n",
              "    animation:\n",
              "      spin 1s steps(1) infinite;\n",
              "  }\n",
              "\n",
              "  @keyframes spin {\n",
              "    0% {\n",
              "      border-color: transparent;\n",
              "      border-bottom-color: var(--fill-color);\n",
              "      border-left-color: var(--fill-color);\n",
              "    }\n",
              "    20% {\n",
              "      border-color: transparent;\n",
              "      border-left-color: var(--fill-color);\n",
              "      border-top-color: var(--fill-color);\n",
              "    }\n",
              "    30% {\n",
              "      border-color: transparent;\n",
              "      border-left-color: var(--fill-color);\n",
              "      border-top-color: var(--fill-color);\n",
              "      border-right-color: var(--fill-color);\n",
              "    }\n",
              "    40% {\n",
              "      border-color: transparent;\n",
              "      border-right-color: var(--fill-color);\n",
              "      border-top-color: var(--fill-color);\n",
              "    }\n",
              "    60% {\n",
              "      border-color: transparent;\n",
              "      border-right-color: var(--fill-color);\n",
              "    }\n",
              "    80% {\n",
              "      border-color: transparent;\n",
              "      border-right-color: var(--fill-color);\n",
              "      border-bottom-color: var(--fill-color);\n",
              "    }\n",
              "    90% {\n",
              "      border-color: transparent;\n",
              "      border-bottom-color: var(--fill-color);\n",
              "    }\n",
              "  }\n",
              "</style>\n",
              "\n",
              "      <script>\n",
              "        async function quickchart(key) {\n",
              "          const quickchartButtonEl =\n",
              "            document.querySelector('#' + key + ' button');\n",
              "          quickchartButtonEl.disabled = true;  // To prevent multiple clicks.\n",
              "          quickchartButtonEl.classList.add('colab-df-spinner');\n",
              "          try {\n",
              "            const charts = await google.colab.kernel.invokeFunction(\n",
              "                'suggestCharts', [key], {});\n",
              "          } catch (error) {\n",
              "            console.error('Error during call to suggestCharts:', error);\n",
              "          }\n",
              "          quickchartButtonEl.classList.remove('colab-df-spinner');\n",
              "          quickchartButtonEl.classList.add('colab-df-quickchart-complete');\n",
              "        }\n",
              "        (() => {\n",
              "          let quickchartButtonEl =\n",
              "            document.querySelector('#df-3dd6dc8e-fcf6-4975-ad23-124f8e6f0660 button');\n",
              "          quickchartButtonEl.style.display =\n",
              "            google.colab.kernel.accessAllowed ? 'block' : 'none';\n",
              "        })();\n",
              "      </script>\n",
              "    </div>\n",
              "\n",
              "    </div>\n",
              "  </div>\n"
            ],
            "application/vnd.google.colaboratory.intrinsic+json": {
              "type": "dataframe",
              "variable_name": "news_dataset",
              "summary": "{\n  \"name\": \"news_dataset\",\n  \"rows\": 30000,\n  \"fields\": [\n    {\n      \"column\": \"Unnamed: 0\",\n      \"properties\": {\n        \"dtype\": \"number\",\n        \"std\": 6533,\n        \"min\": 0,\n        \"max\": 23479,\n        \"num_unique_values\": 20462,\n        \"samples\": [\n          11388,\n          8486,\n          3195\n        ],\n        \"semantic_type\": \"\",\n        \"description\": \"\"\n      }\n    },\n    {\n      \"column\": \"title\",\n      \"properties\": {\n        \"dtype\": \"string\",\n        \"num_unique_values\": 27149,\n        \"samples\": [\n          \"STRANGER THAN FICTION: Why Is Foundation of Vegas Shooting Survivor Sponsored By DHS Linked Firm?\",\n          \"Brexit deal on Irish border possible by Friday: EU Commission\",\n          \"Possible explosion detected near Argentine sub's last-known location\"\n        ],\n        \"semantic_type\": \"\",\n        \"description\": \"\"\n      }\n    },\n    {\n      \"column\": \"text\",\n      \"properties\": {\n        \"dtype\": \"string\",\n        \"num_unique_values\": 27317,\n        \"samples\": [\n          \"A recent opinion poll carried out by NBC News/Wall Street Journal showed that 78 percent of Americans, a number that appears to still be growing, would prefer to see an independent commissioner or special prosecutor handle the investigation into Russia s interference in the 2016 US presidential election, while a mere 15 percent believe congress can handle any ongoing probe.Last week was more than just a turbulent time in Washington. President Trump fired FBI head James Comey on Tuesday, the man responsible for the investigation into Trump s Russian ties. This latest poll was conducted between Thursday, May 11 and Saturday, May 13, just days after Comey s ousting, among 800 adults and has an overall margin of error of plus or minus 3.5 percentage points. The firing of the FBI director was a major upheaval in the investigation process, and these poll results reflect the current climate not only around Capitol Hill, but what is a rapidly growing consensus across the nation.Since Comey s dismissal, Trump and several members of his administration have tried to downplay the need for an independent commission to continue what the FBI had begun; looking into questions of Russian interference in last year s election, as well as the possibility of members of Trump s campaign colluding with Moscow. In fact, on Saturday the President stated in no uncertain terms that the investigation should continue to progress in the House, the Senate, the FBI. According to the same poll, only 29 percent of Americans say they approve of Comey s firing, while 38 percent disapprove. Another 32 percent of respondents don t have enough to say on the matter, yet among those who say they have read, seen or heard  a lot  about the firing, 53 percent say they disapprove, versus 33 percent who approve. The poll also showed a partisan split when it comes to the topic of the president s decision, with 58 percent of Republicans approving while 66 percent of Democrats disapprove of the move. One thing that is clear, however, is that very few people surveyed had no opinion at all, with low single-digit responses.As a whole, Trump s approval rating has remained steady at 39 percent since last Tuesday, however, 30 percent of those surveyed claimed that their impression of the president is less favorable since his decision to remove James Comey, while 61 percent say the move hasn t impacted their impression of President Trump whatsoever.Featured image via Drew Angerer/Getty Images\",\n          \"Patrick Henningsen 21st Century WireMuch was made this week in the US media about Michael Flynn s recent guilty plea to making false statements to the FBI, as part of Special Counsel Robert Mueller s never-ending  Russia probe.  Beyond the political window dressing however, there s a much bigger and more profound story lingering in the background. Although court documents show Flynn has admitted to giving false statements in reference to his  reaching out  to Russia s ambassador to the US, Sergey Kislyak   the mere act of initiating contact with any foreign official is neither illegal nor is it a violation of ethics. Putting the current Red Scare aside, this would normally be viewed as standard statecraft for members of any incoming US administration. Even if Flynn had promised the Russian Ambassador, as claimed this week by Resistance leader Rep. Elijah E. Cummings of Maryland, that a Trump government would  rip-up sanctions,  such a promise by Flynn would not be unlawful. Anyone can make a promise, we should point out here that neither Flynn, nor Donald Trump would be in any position to make good on such a promise without the blessing of the US Congress and Senate. Just look at what happened when Trump took office. Were any sanctions lifted?That said, after 18 months of fabricating fake news about Russian hacking, Russian meddling and Russian collusion, it s not surprising that the New York Times would get the Flynn story wrong too, and on an even bigger scale than many of their past made-up stories about Trump scandals. Here we have yet another hand-wringing Resistance writer, Harry Litman, claiming that Flynn s testimony will go down in history next to Watergate and Iran-Contra: The repercussions of the plea will be months in the making, but it s not an exaggeration to say that the events to which Mr. Flynn has agreed to testify will take their place in the history books alongside the Watergate and Iran-contra scandals. He might be right, if only the media coverage and the federal hearing would focus on the correct country with whom the Trump team was colluding, which unfortunately was not Russia. Funny how partisan writer Litman did not even mention the word Israel once in his report. Perhaps this is why certain persons in Washington like Adam Schiff, Chuck Schumer, John McCain and others, along with their corrupt media counterparts like CNN, the Washington Post and the New York Times have been incessantly pushing their fictional  Russia did it  narrative for the last 18 months   because Russiagate serves as a convenient overlay for Israelgate.Mehdi Hassan from The Intercept writes:  Why aren t more members of Congress or the media discussing the Trump transition team s pretty brazen collusion with Israeli Prime Minister Benjamin Netanyahu to undermine both U.S. government policy and international law? Shouldn t that be treated as a major scandal? Thanks to Mueller s ongoing investigation, we now know that prior to President Donald Trump s inauguration, members of his inner circle went to bat on behalf of Israel, and specifically on behalf of illegal Israeli settlements in the occupied Palestinian territories, behind the scenes and in opposition to official U.S. foreign policy. That s the kind of collusion with a foreign state that has gotten a lot of attention with respect to the Kremlin   but colluding with Israel seems to be of far less interest, strangely. Yes, you heard that right. This was at minimum collusion with Israel. But it goes much deeper than that. If this story is accurate, and we have every reason to believe it is (especially by the large silence in the American media, usually a positive indication of media avoidance), this would indicate that the then President-elect s close advisor and son-in-law, Jared Kushner, was clearly acting as a foreign agent   on behalf of the state of Israel. The fact the US media are not taking this story more seriously should serve as a reminder as to how much power the Israeli Lobby wields in the US, not just over politicians, but over mainstream media as well. Granted, this is a very serious charge   which comes with some serious consequences if Kushner would ever be indicted, but the facts clearly demonstrate beyond any reasonable doubt, that then President-elect s son-in-law was using his proximity to the incoming Commander and Chief to execute a series of highly sensitive foreign policy maneuvers at the request of a foreign country.The history of Israeli spying and outright meddling in US affairs is no secret to anyone willing to research it (unofficially a forbidden topic in US mainstream media), but this latest episode with Trump and Kushner is even more disturbing considering this week s controversial East Jerusalem announcement (21WIRE warned about an East Jerusalem provocation 12 months ago).Beyond this, many will argue that the radical fundamentalist Zionist agenda which Kushner is aggressively pursuing on behalf of Tel Aviv is not in the interest of the wider Middle East, nor is it good for America s European partners, and may even contribute to a further destablization of the region   as evidenced by recent violence which has erupted following Trump s provocative move. The result is not necessarily in America s interests, even if it is certainly in Israel s interests.Author Mehdi Hassan continues:Here s what we learned last week when Mueller s team unveiled its plea deal with Trump s former national security adviser, retired Gen. Michael Flynn. In December 2016, the United Nations Security Council was debating a draft resolution that condemned Israeli settlement expansion in the occupied territories as a  flagrant violation under international law  that was  dangerously imperiling the viability  of an independent Palestinian state.The Obama administration had made it clear that the U.S. was planning to abstain on the resolution, while noting that  the settlements have no legal validity  and observing how  the settlement problem has gotten so much worse that it is now putting at risk the   two-state solution.  (Rhetorically, at least, U.S. opposition to Israeli settlements has been a long-standing and bipartisan position for decades: Ronald Reagan called for  a real settlement freeze  in 1982 while George H.W. Bush tried to curb Israeli settlement-building plans by briefly cutting off U.S. loan guarantees to the Jewish state in 1991.)Everyone expected that the upcoming UN vote on illegal Israeli settlements was going to be a divisive issue, but with only weeks before Trump s fast approaching inauguration, Israel had its trojan horse in position. Hassan goes on to explain Tel Aviv s covert mechanism for manipulating the UN vote: On or about December 22, 2016, a very senior member of the Presidential Transition Team directed Flynn to contact officials from foreign governments, including Russia, to learn where each government stood on the resolution and to influence those governments to delay the vote or defeat the resolution,  reads the statement of offense against Flynn, who pleaded guilty to lying to the FBI about his conversations with the Russian ambassador to the U.S.  On or about December 22, 2016, Flynn contacted the Russian Ambassador about the pending vote. Flynn informed the Russian Ambassador about the incoming administration s opposition to the resolution, and requested that Russia vote against or delay the resolution. BFFs: Donald Trump talks to his chief foreign policy advisor, Israeli president Benjamin Netanyahu.So who was this very senior member of Trump s team who sought to execute orders from the office of Israeli President Benjamin Netanyahu? Hassan explains:Who was the  very senior member  of the transition team who  directed  Flynn to do all this? Multiple news outlets have confirmed that it was Jared Kushner, Trump s son-in-law and main point man on the Middle East peace process.  Jared called Flynn and told him you need to get on the phone to every member of the Security Council and tell them to delay the vote,  a Trump transition official revealed to BuzzFeed News on Friday, adding that Kushner told Flynn  this was a top priority for the president. According to BuzzFeed:  After hanging up, Flynn told the entire room [at the Trump transition team HQ] that they d have to start pushing to lobby against the U.N. vote, saying  the president wants this done ASAP.  Flynn s guilty plea, BuzzFeed continued, revealed  for the first time how Trump transition officials solicited Russia s help to head off the UN vote and undermine the Obama administration s policy on Middle East peace before ever setting foot in the White House. Even during the height of the Neocon era, with multiple Israeli loyalists in the cabinet (including some dual passport holders) shaping White House Middle East policy   ultimately into a ditch with Iraq, the level of manipulation wasn t this overt. Trump s decision to reverse successive US administrations  new policy on East Jerusalem is inconceivable, if not for some other x-factor which the PNAC-dominated George W. Bush could not even manage.The facts of the case against Kushner have not been contested, and in fact Kushner has even been gloating out on the speaking circuit, with his doting wife Ivanka proudly advertizing her husband s  accomplishment  on behalf Israel.My husband, Jared Kushner, had a great conversation on the Middle East with Haim Saban today at the Saban Forum. #Saban17https://t.co/BUbGfd1YNr  Ivanka Trump (@IvankaTrump) December 4, 2017 None of this has been contested. In fact, on Sunday, Kushner made a rare public appearance at the Saban Forum in Washington, D.C., to discuss the Trump administration s plans for the Middle East and was welcomed by the forum s sponsor, the Israeli-American billionaire Haim Saban, who said he  personally wanted to thank  Kushner for  taking steps to try and get the United Nations Security Council to not go along with what ended up being an abstention by the U.S.  Kushner s response? The first son-in-law smiled, nodded, and mouthed  thank you  to Saban.Meanwhile, the Israelis have been pretty forthcoming about their own role in all of this, too. On Monday, Ron Dermer, Israel s ambassador to the U.S. and a close friend and ally of Netanyahu, told Politico s Susan Glasser that, in December 2016,  obviously we reached out to [the Trump transition team] in the hope that they would help us,  and  we were hopeful that they would speak  to other governments  in order to prevent this vote from happening. Got that? The Trump transition team   in the form of key Trump advisers Kushner and Flynn   reached out to the Russian government in order to undermine the U.S. government because the Israeli government asked them to. According to these reports, Kushner was using his position in the transition team to act on Israel s behalf   outside of any governmental framework of accountability. If Flynn inadvertently found himself in a Russian trap, it was because Israel and its in-house operative demanded it.If Flynn is guilty of anything, it would be going along with Kushner s Israel First scheme ahead of the United Nations vote. What is odd though, is why the entire US mainstream media is not interested in this part of the story. Even the Never Trump  Resistance  seem to be afraid of taking this narrative on. I guess even the Resistance has its limits. Rather than go for a case where the evidence is sitting right there on a silver salver, instead they will go for the Russian conspiracy theory. Alas, old habits die hard.SEE ALSO: The Genealogy of Trump s U-Turn on PalestineThis series of events is all the more pertinent when considering this week s announcement by President Trump that the US is to recognize Jerusalem as the capital of Israel, and will be moving its embassy from Tel Aviv to East Jerusalem. Many are already calling this  the kiss of death  to the Israel-Palestine peace process. In a predictable succession of events, the Jerusalem provocation was a fait accompli after Trump had announced in October that the US would be withdrawing from support for UNESCO, the UN body which is meant to help maintain the neutrality of Jerusalem as an internationally protected area. The Trump administration justified its resignation from the key UN agency on the grounds that it is  biased against Israel.  But the neutrality of Jerusalem is an essential policy for maintaining peace in a less than ideal situation with Palestine still under a brutal military occupation by an illegitimate and illegal (by international law and successive UN Resolutions) Israeli jackboot.In addition to all this, this past summer the United States announced the establishment of a permanent military installation inside of Israel. What s scary is how many people do not know this has happened.So Trump s  minence grise, the wunderkind, who some people have called the President In-Law, is really Israel s man inside the White House.Landed on his feet:  President In-law  Jared Kushner.So what exactly are Jared Kushner s credentials in international relations and diplomacy that he has been charged with negotiating Middle East affairs for the United States of America? Without sounding too cruel here, it s difficult to find anything to say in his defense. In the end, his only visible qualification is that he s married to the President s daughter, and that s he s  a good friend  of Netanyahu. That s really it.Credit where credit s due though. Aside from marrying into the dynasty, Kushner is also the former owner of a mediocre website, The New York Observer, and has also managed to parlay his family status to help finance a number of high-profile New York City property deals with foreign buyers (no doubt with the help of his father-in-law).Isn t that what Kushner is doing right now   using his inherited clout to help  close friend  Benjamin Netanyahu broker property deals (highly illegal by international law) in the Middle East, only this time with his Uncle Sam acting as the guarantor? It certainly looks that way. The question is, will anyone in the US do anything about it?When this latest episode of hubris by the White House and Israel eventually unravels, the public and the media might then turn on Kushner and Trump, but by then the damage will have already been done.Meanwhile, men like Jake Tapper and Wolf Blitzer will still be chasing those illusive Russian hackers clear into the 2020 election cycle, which is probably a stupid move for the Resistance, but if the last 18 months have taught us anything it s that there isn t much clear thinking going on in that corner of the galaxy.Until then, Netanyahu can feel safe in the knowledge that Israel, not Washington, is currently in control of US foreign policy.One final note to the brave Never-Trump Resistance: if a foreign state actor is blackmailing this President or the White House, it s probably not Russia.*** Author Patrick Henningsen is an American writer and global affairs analyst and founder of independent news and analysis site 21st Century Wire, and is host of the SUNDAY WIRE weekly radio show broadcast globally over the Alternate Current Radio Network (ACR). He has written for a number of international publications and has done extensive on-the-ground reporting of the conflict Syria, Iraq and the Middle East.READ MORE ISRAEL NEWS AT: 21st Century Wire Israel FilesSUPPORT 21WIRE  SUBSCRIBE NOW & BECOME A MEMBER @21WIRE.TV\",\n          \"President Donald Trump, striving to make good on a top campaign promise, is pushing his fellow Republicans who control Congress to pass revamped healthcare legislation but the same intraparty squabbling that torpedoed it last month could do it again. Trump is looking for his first major legislative victory since taking office in January. House of Representatives Republicans are exploring compromises aimed at satisfying the party\\u2019s most conservative members without antagonizing its moderates, but it remained unclear on Friday whether a viable bill would emerge. Trump on Friday played down the need for Congress to act on the legislation before he reaches his 100th day in office next weekend, telling reporters, \\u201cWe\\u2019ll see what happens - no particular rush.\\u201d Trump on Thursday had predicted \\u201ca good chance of getting it soon,\\u201d either \\u201cnext week or shortly thereafter.\\u201d On Friday, he said it \\u201cdoesn\\u2019t matter if it\\u2019s next week.\\u201d Congress, returning from a recess next week, also will be working against the clock to pass legislation to keep the government funded past April 28 and avert a federal shutdown. Healthcare legislation did not appear on the schedule released on Friday by House Republican leaders of bills to be considered next week. \\u201cWe\\u2019re going to get it done when it\\u2019s appropriate in terms of getting to that 216,\\u201d White House spokesman Sean Spicer told reporters, referring to the vote total needed for House passage before the bill goes to the Senate. Trump\\u2019s party cannot afford defections because Democrats remain unified against the Republican quest to repeal and replace the Affordable Care Act, Democratic former President Barack Obama\\u2019s signature domestic policy achievement, dubbed Obamacare. Trump campaigned on a pledge to discard Obamacare. In a stinging setback for Trump, Speaker Paul Ryan pulled the legislation from the House floor on March 24 before allowing it to come to a vote amid a revolt by conservatives in a faction called the House Freedom Caucus and moderates unhappy with concessions to the conservatives. Republicans have called Obamacare a government overreach. The law enabled 20 million Americans to obtain insurance, many through an expansion of the Medicaid program for the poor. A senior House Republican aide said it was not clear whether a revamped Republican plan can attract 216 votes, adding that without a legislative text it was impossible to do a vote count to assess its chances. Moderate Republican Representative Tom MacArthur is pushing a proposal to allow states to waive some Obamacare provisions. MacArthur\\u2019s office said he has discussed it with other Republican lawmakers, the House leadership and the White House. No text has emerged, but an outline of his proposal said states could seek to relax \\u201cessential benefits\\u201d that Obamacare requires insurance plans to cover, such as emergency room trips, maternity and newborn care, and mental health services. States also could request waivers to Obamacare\\u2019s ban on insurers charging sick customers higher premiums than healthy customers. But states would have to establish \\u201chigh-risk pools\\u201d using government funds to help pay for insurance for people with costly medical conditions. Representative Rodney Davis told CNN on Friday he did not know what was in the deal, but added, \\u201cI\\u2019m not going to be for a plan that is going to allow for pre-existing conditions to not be covered.\\u201d MacArthur and Davis are members of the centrist House Republican Tuesday Group. Freedom Caucus member Representative Dave Brat told CNN the new proposal gives states more say healthcare but was the \\u201csame fundamental bill\\u201d that collapsed last month. The Republican plan, as written last month, would end the Medicaid expansion, let states impose work requirements on some Medicaid recipients, rescind a range of Obamacare taxes, get rid of a penalty on people who refuse to obtain insurance, and ditch Obamacare\\u2019s income-based subsidies to help people buy insurance while creating less-generous age-based tax credits. The nonpartisan Congressional Budget Office forecast the earlier version of the plan would increase by 24 million the number of Americans without medical insurance by 2026. During a Thursday conference call with House Democrats, their leader, Nancy Pelosi, urged them to remain united against the Republican legislation, saying it would increase healthcare costs and provide less insurance coverage, an aide who was on the telephone call said.\"\n        ],\n        \"semantic_type\": \"\",\n        \"description\": \"\"\n      }\n    },\n    {\n      \"column\": \"subject\",\n      \"properties\": {\n        \"dtype\": \"category\",\n        \"num_unique_values\": 8,\n        \"samples\": [\n          \"Government News\",\n          \"News\",\n          \"politicsNews\"\n        ],\n        \"semantic_type\": \"\",\n        \"description\": \"\"\n      }\n    },\n    {\n      \"column\": \"date\",\n      \"properties\": {\n        \"dtype\": \"category\",\n        \"num_unique_values\": 2381,\n        \"samples\": [\n          \"Jun 8, 2016\",\n          \"September 25, 2017\",\n          \"May 23, 2017 \"\n        ],\n        \"semantic_type\": \"\",\n        \"description\": \"\"\n      }\n    },\n    {\n      \"column\": \"label\",\n      \"properties\": {\n        \"dtype\": \"number\",\n        \"std\": 0,\n        \"min\": 0,\n        \"max\": 1,\n        \"num_unique_values\": 2,\n        \"samples\": [\n          0,\n          1\n        ],\n        \"semantic_type\": \"\",\n        \"description\": \"\"\n      }\n    }\n  ]\n}"
            }
          },
          "metadata": {},
          "execution_count": 30
        }
      ]
    },
    {
      "cell_type": "code",
      "source": [
        "news_dataset.isnull().sum()"
      ],
      "metadata": {
        "colab": {
          "base_uri": "https://localhost:8080/",
          "height": 272
        },
        "id": "ErXkUMEDFAYo",
        "outputId": "01170457-63b2-4f82-e1b5-5e4b60e7049c"
      },
      "execution_count": 31,
      "outputs": [
        {
          "output_type": "execute_result",
          "data": {
            "text/plain": [
              "Unnamed: 0    0\n",
              "title         0\n",
              "text          0\n",
              "subject       0\n",
              "date          0\n",
              "label         0\n",
              "dtype: int64"
            ],
            "text/html": [
              "<div>\n",
              "<style scoped>\n",
              "    .dataframe tbody tr th:only-of-type {\n",
              "        vertical-align: middle;\n",
              "    }\n",
              "\n",
              "    .dataframe tbody tr th {\n",
              "        vertical-align: top;\n",
              "    }\n",
              "\n",
              "    .dataframe thead th {\n",
              "        text-align: right;\n",
              "    }\n",
              "</style>\n",
              "<table border=\"1\" class=\"dataframe\">\n",
              "  <thead>\n",
              "    <tr style=\"text-align: right;\">\n",
              "      <th></th>\n",
              "      <th>0</th>\n",
              "    </tr>\n",
              "  </thead>\n",
              "  <tbody>\n",
              "    <tr>\n",
              "      <th>Unnamed: 0</th>\n",
              "      <td>0</td>\n",
              "    </tr>\n",
              "    <tr>\n",
              "      <th>title</th>\n",
              "      <td>0</td>\n",
              "    </tr>\n",
              "    <tr>\n",
              "      <th>text</th>\n",
              "      <td>0</td>\n",
              "    </tr>\n",
              "    <tr>\n",
              "      <th>subject</th>\n",
              "      <td>0</td>\n",
              "    </tr>\n",
              "    <tr>\n",
              "      <th>date</th>\n",
              "      <td>0</td>\n",
              "    </tr>\n",
              "    <tr>\n",
              "      <th>label</th>\n",
              "      <td>0</td>\n",
              "    </tr>\n",
              "  </tbody>\n",
              "</table>\n",
              "</div><br><label><b>dtype:</b> int64</label>"
            ]
          },
          "metadata": {},
          "execution_count": 31
        }
      ]
    },
    {
      "cell_type": "code",
      "source": [
        "# merging title and subject\n",
        "news_dataset['content'] = news_dataset['title'] + ' ' + news_dataset['subject']"
      ],
      "metadata": {
        "id": "O42lmKCTFkho"
      },
      "execution_count": 32,
      "outputs": []
    },
    {
      "cell_type": "code",
      "source": [
        "print(news_dataset['content'])"
      ],
      "metadata": {
        "colab": {
          "base_uri": "https://localhost:8080/"
        },
        "id": "pBphn9xDG86t",
        "outputId": "dc96fcad-51f3-4fbb-fe44-a995d4a2a700"
      },
      "execution_count": 34,
      "outputs": [
        {
          "output_type": "stream",
          "name": "stdout",
          "text": [
            "0        Ex-CIA head says Trump remarks on Russia inter...\n",
            "1        YOU WON’T BELIEVE HIS PUNISHMENT! HISPANIC STO...\n",
            "2        Federal Reserve governor Powell's policy views...\n",
            "3        SCOUNDREL HILLARY SUPPORTER STARTS “TrumpLeaks...\n",
            "4        NANCY PELOSI ARROGANTLY DISMISSES Questions on...\n",
            "                               ...                        \n",
            "29995    U.S. aerospace industry urges Trump to help Ex...\n",
            "29996    Highlights: Hong Kong leader Carrie Lam delive...\n",
            "29997    Obama Literally LAUGHS At Claims That Brexit M...\n",
            "29998    Syrian army takes full control of Deir al-Zor ...\n",
            "29999    U.S., Israel sign $38 billion military aid pac...\n",
            "Name: content, Length: 30000, dtype: object\n"
          ]
        }
      ]
    },
    {
      "cell_type": "code",
      "source": [
        "# seperating the data and label\n",
        "X = news_dataset.drop(columns='label', axis=1)\n",
        "Y = news_dataset['label']"
      ],
      "metadata": {
        "id": "5zUUo0OiG_RT"
      },
      "execution_count": 35,
      "outputs": []
    },
    {
      "cell_type": "code",
      "source": [
        "print(X)\n",
        "print(Y)"
      ],
      "metadata": {
        "colab": {
          "base_uri": "https://localhost:8080/"
        },
        "id": "KwwML1qeHU8Z",
        "outputId": "b6b2a168-a0c0-4ef2-a843-1fd1a9191d4f"
      },
      "execution_count": 36,
      "outputs": [
        {
          "output_type": "stream",
          "name": "stdout",
          "text": [
            "       Unnamed: 0                                              title  \\\n",
            "0            2619  Ex-CIA head says Trump remarks on Russia inter...   \n",
            "1           16043  YOU WON’T BELIEVE HIS PUNISHMENT! HISPANIC STO...   \n",
            "2             876  Federal Reserve governor Powell's policy views...   \n",
            "3           19963  SCOUNDREL HILLARY SUPPORTER STARTS “TrumpLeaks...   \n",
            "4           10783  NANCY PELOSI ARROGANTLY DISMISSES Questions on...   \n",
            "...           ...                                                ...   \n",
            "29995        6880  U.S. aerospace industry urges Trump to help Ex...   \n",
            "29996       17818  Highlights: Hong Kong leader Carrie Lam delive...   \n",
            "29997        5689  Obama Literally LAUGHS At Claims That Brexit M...   \n",
            "29998       15805  Syrian army takes full control of Deir al-Zor ...   \n",
            "29999        8143  U.S., Israel sign $38 billion military aid pac...   \n",
            "\n",
            "                                                    text          subject  \\\n",
            "0      Former CIA director John Brennan on Friday cri...     politicsNews   \n",
            "1      How did this man come to OWN this store? There...  Government News   \n",
            "2      President Donald Trump on Thursday tapped Fede...     politicsNews   \n",
            "3      Hillary Clinton ally David Brock is offering t...        left-news   \n",
            "4      Pleading ignorance is a perfect ploy for Nancy...         politics   \n",
            "...                                                  ...              ...   \n",
            "29995  The chief executive of the U.S. Aerospace Indu...     politicsNews   \n",
            "29996  The following are highlights of the maiden pol...        worldnews   \n",
            "29997  If there s one thing President Barack Obama is...             News   \n",
            "29998  The Syrian army and its allies have taken full...        worldnews   \n",
            "29999  The United States will give Israel $38 billion...     politicsNews   \n",
            "\n",
            "                      date                                            content  \n",
            "0           July 22, 2017   Ex-CIA head says Trump remarks on Russia inter...  \n",
            "1             Jun 19, 2017  YOU WON’T BELIEVE HIS PUNISHMENT! HISPANIC STO...  \n",
            "2        November 2, 2017   Federal Reserve governor Powell's policy views...  \n",
            "3             Sep 17, 2016  SCOUNDREL HILLARY SUPPORTER STARTS “TrumpLeaks...  \n",
            "4             May 26, 2017  NANCY PELOSI ARROGANTLY DISMISSES Questions on...  \n",
            "...                    ...                                                ...  \n",
            "29995    December 6, 2016   U.S. aerospace industry urges Trump to help Ex...  \n",
            "29996    October 11, 2017   Highlights: Hong Kong leader Carrie Lam delive...  \n",
            "29997        June 28, 2016  Obama Literally LAUGHS At Claims That Brexit M...  \n",
            "29998    November 2, 2017   Syrian army takes full control of Deir al-Zor ...  \n",
            "29999  September 14, 2016   U.S., Israel sign $38 billion military aid pac...  \n",
            "\n",
            "[30000 rows x 6 columns]\n",
            "0        1\n",
            "1        0\n",
            "2        1\n",
            "3        0\n",
            "4        0\n",
            "        ..\n",
            "29995    1\n",
            "29996    1\n",
            "29997    0\n",
            "29998    1\n",
            "29999    1\n",
            "Name: label, Length: 30000, dtype: int64\n"
          ]
        }
      ]
    },
    {
      "cell_type": "markdown",
      "source": [
        "Stemming Procedure"
      ],
      "metadata": {
        "id": "zgZlFioyHrMW"
      }
    },
    {
      "cell_type": "code",
      "source": [
        "# actor,actress,acting ~ act\n",
        "port_stem = PorterStemmer()"
      ],
      "metadata": {
        "id": "FORWq3BxHXkA"
      },
      "execution_count": 37,
      "outputs": []
    },
    {
      "cell_type": "code",
      "source": [
        "def stemming(content):\n",
        "  stemmed_content = re.sub('[^a-zA-Z]',' ',content)\n",
        "  stemmed_content = stemmed_content.lower()\n",
        "  stemmed_content = stemmed_content.split()\n",
        "  stemmed_content = [port_stem.stem(word) for word in stemmed_content if not word in stopwords.words('english')]\n",
        "  stemmed_content = ' '.join(stemmed_content)\n",
        "  return stemmed_content\n",
        ""
      ],
      "metadata": {
        "id": "aiNy90vwIRXi"
      },
      "execution_count": 38,
      "outputs": []
    },
    {
      "cell_type": "code",
      "source": [
        " news_dataset['content'] = news_dataset['content'].apply(stemming)"
      ],
      "metadata": {
        "id": "1LXoxKUmKsSz"
      },
      "execution_count": 39,
      "outputs": []
    },
    {
      "cell_type": "code",
      "source": [
        "print(news_dataset['content'])"
      ],
      "metadata": {
        "colab": {
          "base_uri": "https://localhost:8080/"
        },
        "id": "rY2ADHQpLizU",
        "outputId": "18d8fa78-da5f-4c07-b940-39337c9b4e3a"
      },
      "execution_count": 40,
      "outputs": [
        {
          "output_type": "stream",
          "name": "stdout",
          "text": [
            "0        ex cia head say trump remark russia interfer d...\n",
            "1        believ punish hispan store owner swindl tax pa...\n",
            "2        feder reserv governor powel polici view word p...\n",
            "3        scoundrel hillari support start trumpleak camp...\n",
            "4        nanci pelosi arrogantli dismiss question crook...\n",
            "                               ...                        \n",
            "29995    u aerospac industri urg trump help ex im bank ...\n",
            "29996    highlight hong kong leader carri lam deliv mai...\n",
            "29997    obama liter laugh claim brexit mean trump win ...\n",
            "29998    syrian armi take full control deir al zor isla...\n",
            "29999    u israel sign billion militari aid packag poli...\n",
            "Name: content, Length: 30000, dtype: object\n"
          ]
        }
      ]
    },
    {
      "cell_type": "code",
      "source": [
        "X = news_dataset['content'].values\n",
        "Y = news_dataset['label'].values"
      ],
      "metadata": {
        "id": "KUcbNzuiL7QV"
      },
      "execution_count": 41,
      "outputs": []
    },
    {
      "cell_type": "code",
      "source": [
        "print(X)"
      ],
      "metadata": {
        "colab": {
          "base_uri": "https://localhost:8080/"
        },
        "id": "wBwpmUEqMjcC",
        "outputId": "28e418b7-90d3-4b56-aa7c-efb035f8cd7f"
      },
      "execution_count": 42,
      "outputs": [
        {
          "output_type": "stream",
          "name": "stdout",
          "text": [
            "['ex cia head say trump remark russia interfer disgrac politicsnew'\n",
            " 'believ punish hispan store owner swindl tax payer latest food stamp scam govern news'\n",
            " 'feder reserv governor powel polici view word politicsnew' ...\n",
            " 'obama liter laugh claim brexit mean trump win elect video news'\n",
            " 'syrian armi take full control deir al zor islam state observatori worldnew'\n",
            " 'u israel sign billion militari aid packag politicsnew']\n"
          ]
        }
      ]
    },
    {
      "cell_type": "code",
      "source": [
        "print(Y)"
      ],
      "metadata": {
        "colab": {
          "base_uri": "https://localhost:8080/"
        },
        "id": "o2ib1AfwMoyk",
        "outputId": "80e29605-62ea-4b2e-c1f4-2476665dc694"
      },
      "execution_count": 43,
      "outputs": [
        {
          "output_type": "stream",
          "name": "stdout",
          "text": [
            "[1 0 1 ... 0 1 1]\n"
          ]
        }
      ]
    },
    {
      "cell_type": "code",
      "source": [
        "X.shape\n",
        "Y.shape"
      ],
      "metadata": {
        "colab": {
          "base_uri": "https://localhost:8080/"
        },
        "id": "DGlcZdISMqed",
        "outputId": "dd31f6f1-f4b4-4092-bfc4-d7e49f2a20c3"
      },
      "execution_count": 46,
      "outputs": [
        {
          "output_type": "execute_result",
          "data": {
            "text/plain": [
              "(30000,)"
            ]
          },
          "metadata": {},
          "execution_count": 46
        }
      ]
    },
    {
      "cell_type": "code",
      "source": [
        "# converting textual data to numerical data\n",
        "vectorizer = TfidfVectorizer()\n",
        "vectorizer.fit(X)\n",
        "\n",
        "X = vectorizer.transform(X)"
      ],
      "metadata": {
        "id": "2wGlH6qbM2Of"
      },
      "execution_count": 47,
      "outputs": []
    },
    {
      "cell_type": "code",
      "source": [
        "print(X)"
      ],
      "metadata": {
        "colab": {
          "base_uri": "https://localhost:8080/"
        },
        "id": "EfW-PFQsNFd0",
        "outputId": "a77e2dbc-e24d-4811-ab3d-54ae5fe6a699"
      },
      "execution_count": 48,
      "outputs": [
        {
          "output_type": "stream",
          "name": "stdout",
          "text": [
            "<Compressed Sparse Row sparse matrix of dtype 'float64'\n",
            "\twith 309267 stored elements and shape (30000, 11843)>\n",
            "  Coords\tValues\n",
            "  (0, 1866)\t0.36722313241697907\n",
            "  (0, 2944)\t0.4413058719824344\n",
            "  (0, 3550)\t0.3255159284614211\n",
            "  (0, 4754)\t0.3267213608925313\n",
            "  (0, 5327)\t0.4248428972703751\n",
            "  (0, 7938)\t0.1312138747094723\n",
            "  (0, 8620)\t0.38422875309693744\n",
            "  (0, 8970)\t0.25091956354802575\n",
            "  (0, 9103)\t0.18775290011789209\n",
            "  (0, 10777)\t0.11889806208899584\n",
            "  (1, 916)\t0.24431727943836326\n",
            "  (1, 3974)\t0.26766145283163745\n",
            "  (1, 4421)\t0.15531497583796633\n",
            "  (1, 4877)\t0.28474704111640375\n",
            "  (1, 5855)\t0.24631019736663337\n",
            "  (1, 7053)\t0.0771399684351476\n",
            "  (1, 7489)\t0.2574213130641217\n",
            "  (1, 7651)\t0.3447996968901494\n",
            "  (1, 8241)\t0.2671543745637323\n",
            "  (1, 9111)\t0.2917270121630078\n",
            "  (1, 9913)\t0.29909174875516575\n",
            "  (1, 10027)\t0.2907816838980644\n",
            "  (1, 10246)\t0.37987883339610334\n",
            "  (1, 10362)\t0.19208603186890474\n",
            "  (2, 3764)\t0.3445416808214119\n",
            "  :\t:\n",
            "  (29997, 6478)\t0.42412721239722606\n",
            "  (29997, 7053)\t0.11872478359550279\n",
            "  (29997, 7219)\t0.21603529088966136\n",
            "  (29997, 10777)\t0.12607400228286234\n",
            "  (29997, 11301)\t0.16023675616612887\n",
            "  (29997, 11605)\t0.31406020233201676\n",
            "  (29998, 217)\t0.28700803207994585\n",
            "  (29998, 495)\t0.2813251855936759\n",
            "  (29998, 2242)\t0.2768535074833605\n",
            "  (29998, 2704)\t0.3596469626656331\n",
            "  (29998, 4134)\t0.29151007884731867\n",
            "  (29998, 5400)\t0.25161719739037475\n",
            "  (29998, 7242)\t0.42902989922839324\n",
            "  (29998, 9938)\t0.19731786391343276\n",
            "  (29998, 10273)\t0.2618493355307671\n",
            "  (29998, 10298)\t0.22640876750459418\n",
            "  (29998, 11675)\t0.10966517630002358\n",
            "  (29998, 11836)\t0.3596469626656331\n",
            "  (29999, 187)\t0.3511125888398807\n",
            "  (29999, 1005)\t0.38973800281572096\n",
            "  (29999, 5413)\t0.40575277008944716\n",
            "  (29999, 6626)\t0.3571861372581878\n",
            "  (29999, 7500)\t0.5106301269015017\n",
            "  (29999, 7938)\t0.15047217648241046\n",
            "  (29999, 9482)\t0.38629262177769835\n"
          ]
        }
      ]
    },
    {
      "cell_type": "code",
      "source": [
        "# splitting the dataset to training and test data\n",
        "X_train , X_test , Y_train , Y_test = train_test_split(X,Y,test_size=0.2,stratify=Y,random_state=2)"
      ],
      "metadata": {
        "id": "WybrhTe5N029"
      },
      "execution_count": 49,
      "outputs": []
    },
    {
      "cell_type": "markdown",
      "source": [
        "Training the model"
      ],
      "metadata": {
        "id": "9ZYrQ4YuOE_v"
      }
    },
    {
      "cell_type": "code",
      "source": [
        "model = LogisticRegression()"
      ],
      "metadata": {
        "id": "Hqq8ZyZTN_ax"
      },
      "execution_count": 53,
      "outputs": []
    },
    {
      "cell_type": "code",
      "source": [
        "model.fit(X_train, Y_train)"
      ],
      "metadata": {
        "colab": {
          "base_uri": "https://localhost:8080/",
          "height": 80
        },
        "id": "EoygdyOtOd7V",
        "outputId": "90a0dd68-473b-4826-fd37-96a3d9ff9c31"
      },
      "execution_count": 54,
      "outputs": [
        {
          "output_type": "execute_result",
          "data": {
            "text/plain": [
              "LogisticRegression()"
            ],
            "text/html": [
              "<style>#sk-container-id-1 {\n",
              "  /* Definition of color scheme common for light and dark mode */\n",
              "  --sklearn-color-text: #000;\n",
              "  --sklearn-color-text-muted: #666;\n",
              "  --sklearn-color-line: gray;\n",
              "  /* Definition of color scheme for unfitted estimators */\n",
              "  --sklearn-color-unfitted-level-0: #fff5e6;\n",
              "  --sklearn-color-unfitted-level-1: #f6e4d2;\n",
              "  --sklearn-color-unfitted-level-2: #ffe0b3;\n",
              "  --sklearn-color-unfitted-level-3: chocolate;\n",
              "  /* Definition of color scheme for fitted estimators */\n",
              "  --sklearn-color-fitted-level-0: #f0f8ff;\n",
              "  --sklearn-color-fitted-level-1: #d4ebff;\n",
              "  --sklearn-color-fitted-level-2: #b3dbfd;\n",
              "  --sklearn-color-fitted-level-3: cornflowerblue;\n",
              "\n",
              "  /* Specific color for light theme */\n",
              "  --sklearn-color-text-on-default-background: var(--sg-text-color, var(--theme-code-foreground, var(--jp-content-font-color1, black)));\n",
              "  --sklearn-color-background: var(--sg-background-color, var(--theme-background, var(--jp-layout-color0, white)));\n",
              "  --sklearn-color-border-box: var(--sg-text-color, var(--theme-code-foreground, var(--jp-content-font-color1, black)));\n",
              "  --sklearn-color-icon: #696969;\n",
              "\n",
              "  @media (prefers-color-scheme: dark) {\n",
              "    /* Redefinition of color scheme for dark theme */\n",
              "    --sklearn-color-text-on-default-background: var(--sg-text-color, var(--theme-code-foreground, var(--jp-content-font-color1, white)));\n",
              "    --sklearn-color-background: var(--sg-background-color, var(--theme-background, var(--jp-layout-color0, #111)));\n",
              "    --sklearn-color-border-box: var(--sg-text-color, var(--theme-code-foreground, var(--jp-content-font-color1, white)));\n",
              "    --sklearn-color-icon: #878787;\n",
              "  }\n",
              "}\n",
              "\n",
              "#sk-container-id-1 {\n",
              "  color: var(--sklearn-color-text);\n",
              "}\n",
              "\n",
              "#sk-container-id-1 pre {\n",
              "  padding: 0;\n",
              "}\n",
              "\n",
              "#sk-container-id-1 input.sk-hidden--visually {\n",
              "  border: 0;\n",
              "  clip: rect(1px 1px 1px 1px);\n",
              "  clip: rect(1px, 1px, 1px, 1px);\n",
              "  height: 1px;\n",
              "  margin: -1px;\n",
              "  overflow: hidden;\n",
              "  padding: 0;\n",
              "  position: absolute;\n",
              "  width: 1px;\n",
              "}\n",
              "\n",
              "#sk-container-id-1 div.sk-dashed-wrapped {\n",
              "  border: 1px dashed var(--sklearn-color-line);\n",
              "  margin: 0 0.4em 0.5em 0.4em;\n",
              "  box-sizing: border-box;\n",
              "  padding-bottom: 0.4em;\n",
              "  background-color: var(--sklearn-color-background);\n",
              "}\n",
              "\n",
              "#sk-container-id-1 div.sk-container {\n",
              "  /* jupyter's `normalize.less` sets `[hidden] { display: none; }`\n",
              "     but bootstrap.min.css set `[hidden] { display: none !important; }`\n",
              "     so we also need the `!important` here to be able to override the\n",
              "     default hidden behavior on the sphinx rendered scikit-learn.org.\n",
              "     See: https://github.com/scikit-learn/scikit-learn/issues/21755 */\n",
              "  display: inline-block !important;\n",
              "  position: relative;\n",
              "}\n",
              "\n",
              "#sk-container-id-1 div.sk-text-repr-fallback {\n",
              "  display: none;\n",
              "}\n",
              "\n",
              "div.sk-parallel-item,\n",
              "div.sk-serial,\n",
              "div.sk-item {\n",
              "  /* draw centered vertical line to link estimators */\n",
              "  background-image: linear-gradient(var(--sklearn-color-text-on-default-background), var(--sklearn-color-text-on-default-background));\n",
              "  background-size: 2px 100%;\n",
              "  background-repeat: no-repeat;\n",
              "  background-position: center center;\n",
              "}\n",
              "\n",
              "/* Parallel-specific style estimator block */\n",
              "\n",
              "#sk-container-id-1 div.sk-parallel-item::after {\n",
              "  content: \"\";\n",
              "  width: 100%;\n",
              "  border-bottom: 2px solid var(--sklearn-color-text-on-default-background);\n",
              "  flex-grow: 1;\n",
              "}\n",
              "\n",
              "#sk-container-id-1 div.sk-parallel {\n",
              "  display: flex;\n",
              "  align-items: stretch;\n",
              "  justify-content: center;\n",
              "  background-color: var(--sklearn-color-background);\n",
              "  position: relative;\n",
              "}\n",
              "\n",
              "#sk-container-id-1 div.sk-parallel-item {\n",
              "  display: flex;\n",
              "  flex-direction: column;\n",
              "}\n",
              "\n",
              "#sk-container-id-1 div.sk-parallel-item:first-child::after {\n",
              "  align-self: flex-end;\n",
              "  width: 50%;\n",
              "}\n",
              "\n",
              "#sk-container-id-1 div.sk-parallel-item:last-child::after {\n",
              "  align-self: flex-start;\n",
              "  width: 50%;\n",
              "}\n",
              "\n",
              "#sk-container-id-1 div.sk-parallel-item:only-child::after {\n",
              "  width: 0;\n",
              "}\n",
              "\n",
              "/* Serial-specific style estimator block */\n",
              "\n",
              "#sk-container-id-1 div.sk-serial {\n",
              "  display: flex;\n",
              "  flex-direction: column;\n",
              "  align-items: center;\n",
              "  background-color: var(--sklearn-color-background);\n",
              "  padding-right: 1em;\n",
              "  padding-left: 1em;\n",
              "}\n",
              "\n",
              "\n",
              "/* Toggleable style: style used for estimator/Pipeline/ColumnTransformer box that is\n",
              "clickable and can be expanded/collapsed.\n",
              "- Pipeline and ColumnTransformer use this feature and define the default style\n",
              "- Estimators will overwrite some part of the style using the `sk-estimator` class\n",
              "*/\n",
              "\n",
              "/* Pipeline and ColumnTransformer style (default) */\n",
              "\n",
              "#sk-container-id-1 div.sk-toggleable {\n",
              "  /* Default theme specific background. It is overwritten whether we have a\n",
              "  specific estimator or a Pipeline/ColumnTransformer */\n",
              "  background-color: var(--sklearn-color-background);\n",
              "}\n",
              "\n",
              "/* Toggleable label */\n",
              "#sk-container-id-1 label.sk-toggleable__label {\n",
              "  cursor: pointer;\n",
              "  display: flex;\n",
              "  width: 100%;\n",
              "  margin-bottom: 0;\n",
              "  padding: 0.5em;\n",
              "  box-sizing: border-box;\n",
              "  text-align: center;\n",
              "  align-items: start;\n",
              "  justify-content: space-between;\n",
              "  gap: 0.5em;\n",
              "}\n",
              "\n",
              "#sk-container-id-1 label.sk-toggleable__label .caption {\n",
              "  font-size: 0.6rem;\n",
              "  font-weight: lighter;\n",
              "  color: var(--sklearn-color-text-muted);\n",
              "}\n",
              "\n",
              "#sk-container-id-1 label.sk-toggleable__label-arrow:before {\n",
              "  /* Arrow on the left of the label */\n",
              "  content: \"▸\";\n",
              "  float: left;\n",
              "  margin-right: 0.25em;\n",
              "  color: var(--sklearn-color-icon);\n",
              "}\n",
              "\n",
              "#sk-container-id-1 label.sk-toggleable__label-arrow:hover:before {\n",
              "  color: var(--sklearn-color-text);\n",
              "}\n",
              "\n",
              "/* Toggleable content - dropdown */\n",
              "\n",
              "#sk-container-id-1 div.sk-toggleable__content {\n",
              "  max-height: 0;\n",
              "  max-width: 0;\n",
              "  overflow: hidden;\n",
              "  text-align: left;\n",
              "  /* unfitted */\n",
              "  background-color: var(--sklearn-color-unfitted-level-0);\n",
              "}\n",
              "\n",
              "#sk-container-id-1 div.sk-toggleable__content.fitted {\n",
              "  /* fitted */\n",
              "  background-color: var(--sklearn-color-fitted-level-0);\n",
              "}\n",
              "\n",
              "#sk-container-id-1 div.sk-toggleable__content pre {\n",
              "  margin: 0.2em;\n",
              "  border-radius: 0.25em;\n",
              "  color: var(--sklearn-color-text);\n",
              "  /* unfitted */\n",
              "  background-color: var(--sklearn-color-unfitted-level-0);\n",
              "}\n",
              "\n",
              "#sk-container-id-1 div.sk-toggleable__content.fitted pre {\n",
              "  /* unfitted */\n",
              "  background-color: var(--sklearn-color-fitted-level-0);\n",
              "}\n",
              "\n",
              "#sk-container-id-1 input.sk-toggleable__control:checked~div.sk-toggleable__content {\n",
              "  /* Expand drop-down */\n",
              "  max-height: 200px;\n",
              "  max-width: 100%;\n",
              "  overflow: auto;\n",
              "}\n",
              "\n",
              "#sk-container-id-1 input.sk-toggleable__control:checked~label.sk-toggleable__label-arrow:before {\n",
              "  content: \"▾\";\n",
              "}\n",
              "\n",
              "/* Pipeline/ColumnTransformer-specific style */\n",
              "\n",
              "#sk-container-id-1 div.sk-label input.sk-toggleable__control:checked~label.sk-toggleable__label {\n",
              "  color: var(--sklearn-color-text);\n",
              "  background-color: var(--sklearn-color-unfitted-level-2);\n",
              "}\n",
              "\n",
              "#sk-container-id-1 div.sk-label.fitted input.sk-toggleable__control:checked~label.sk-toggleable__label {\n",
              "  background-color: var(--sklearn-color-fitted-level-2);\n",
              "}\n",
              "\n",
              "/* Estimator-specific style */\n",
              "\n",
              "/* Colorize estimator box */\n",
              "#sk-container-id-1 div.sk-estimator input.sk-toggleable__control:checked~label.sk-toggleable__label {\n",
              "  /* unfitted */\n",
              "  background-color: var(--sklearn-color-unfitted-level-2);\n",
              "}\n",
              "\n",
              "#sk-container-id-1 div.sk-estimator.fitted input.sk-toggleable__control:checked~label.sk-toggleable__label {\n",
              "  /* fitted */\n",
              "  background-color: var(--sklearn-color-fitted-level-2);\n",
              "}\n",
              "\n",
              "#sk-container-id-1 div.sk-label label.sk-toggleable__label,\n",
              "#sk-container-id-1 div.sk-label label {\n",
              "  /* The background is the default theme color */\n",
              "  color: var(--sklearn-color-text-on-default-background);\n",
              "}\n",
              "\n",
              "/* On hover, darken the color of the background */\n",
              "#sk-container-id-1 div.sk-label:hover label.sk-toggleable__label {\n",
              "  color: var(--sklearn-color-text);\n",
              "  background-color: var(--sklearn-color-unfitted-level-2);\n",
              "}\n",
              "\n",
              "/* Label box, darken color on hover, fitted */\n",
              "#sk-container-id-1 div.sk-label.fitted:hover label.sk-toggleable__label.fitted {\n",
              "  color: var(--sklearn-color-text);\n",
              "  background-color: var(--sklearn-color-fitted-level-2);\n",
              "}\n",
              "\n",
              "/* Estimator label */\n",
              "\n",
              "#sk-container-id-1 div.sk-label label {\n",
              "  font-family: monospace;\n",
              "  font-weight: bold;\n",
              "  display: inline-block;\n",
              "  line-height: 1.2em;\n",
              "}\n",
              "\n",
              "#sk-container-id-1 div.sk-label-container {\n",
              "  text-align: center;\n",
              "}\n",
              "\n",
              "/* Estimator-specific */\n",
              "#sk-container-id-1 div.sk-estimator {\n",
              "  font-family: monospace;\n",
              "  border: 1px dotted var(--sklearn-color-border-box);\n",
              "  border-radius: 0.25em;\n",
              "  box-sizing: border-box;\n",
              "  margin-bottom: 0.5em;\n",
              "  /* unfitted */\n",
              "  background-color: var(--sklearn-color-unfitted-level-0);\n",
              "}\n",
              "\n",
              "#sk-container-id-1 div.sk-estimator.fitted {\n",
              "  /* fitted */\n",
              "  background-color: var(--sklearn-color-fitted-level-0);\n",
              "}\n",
              "\n",
              "/* on hover */\n",
              "#sk-container-id-1 div.sk-estimator:hover {\n",
              "  /* unfitted */\n",
              "  background-color: var(--sklearn-color-unfitted-level-2);\n",
              "}\n",
              "\n",
              "#sk-container-id-1 div.sk-estimator.fitted:hover {\n",
              "  /* fitted */\n",
              "  background-color: var(--sklearn-color-fitted-level-2);\n",
              "}\n",
              "\n",
              "/* Specification for estimator info (e.g. \"i\" and \"?\") */\n",
              "\n",
              "/* Common style for \"i\" and \"?\" */\n",
              "\n",
              ".sk-estimator-doc-link,\n",
              "a:link.sk-estimator-doc-link,\n",
              "a:visited.sk-estimator-doc-link {\n",
              "  float: right;\n",
              "  font-size: smaller;\n",
              "  line-height: 1em;\n",
              "  font-family: monospace;\n",
              "  background-color: var(--sklearn-color-background);\n",
              "  border-radius: 1em;\n",
              "  height: 1em;\n",
              "  width: 1em;\n",
              "  text-decoration: none !important;\n",
              "  margin-left: 0.5em;\n",
              "  text-align: center;\n",
              "  /* unfitted */\n",
              "  border: var(--sklearn-color-unfitted-level-1) 1pt solid;\n",
              "  color: var(--sklearn-color-unfitted-level-1);\n",
              "}\n",
              "\n",
              ".sk-estimator-doc-link.fitted,\n",
              "a:link.sk-estimator-doc-link.fitted,\n",
              "a:visited.sk-estimator-doc-link.fitted {\n",
              "  /* fitted */\n",
              "  border: var(--sklearn-color-fitted-level-1) 1pt solid;\n",
              "  color: var(--sklearn-color-fitted-level-1);\n",
              "}\n",
              "\n",
              "/* On hover */\n",
              "div.sk-estimator:hover .sk-estimator-doc-link:hover,\n",
              ".sk-estimator-doc-link:hover,\n",
              "div.sk-label-container:hover .sk-estimator-doc-link:hover,\n",
              ".sk-estimator-doc-link:hover {\n",
              "  /* unfitted */\n",
              "  background-color: var(--sklearn-color-unfitted-level-3);\n",
              "  color: var(--sklearn-color-background);\n",
              "  text-decoration: none;\n",
              "}\n",
              "\n",
              "div.sk-estimator.fitted:hover .sk-estimator-doc-link.fitted:hover,\n",
              ".sk-estimator-doc-link.fitted:hover,\n",
              "div.sk-label-container:hover .sk-estimator-doc-link.fitted:hover,\n",
              ".sk-estimator-doc-link.fitted:hover {\n",
              "  /* fitted */\n",
              "  background-color: var(--sklearn-color-fitted-level-3);\n",
              "  color: var(--sklearn-color-background);\n",
              "  text-decoration: none;\n",
              "}\n",
              "\n",
              "/* Span, style for the box shown on hovering the info icon */\n",
              ".sk-estimator-doc-link span {\n",
              "  display: none;\n",
              "  z-index: 9999;\n",
              "  position: relative;\n",
              "  font-weight: normal;\n",
              "  right: .2ex;\n",
              "  padding: .5ex;\n",
              "  margin: .5ex;\n",
              "  width: min-content;\n",
              "  min-width: 20ex;\n",
              "  max-width: 50ex;\n",
              "  color: var(--sklearn-color-text);\n",
              "  box-shadow: 2pt 2pt 4pt #999;\n",
              "  /* unfitted */\n",
              "  background: var(--sklearn-color-unfitted-level-0);\n",
              "  border: .5pt solid var(--sklearn-color-unfitted-level-3);\n",
              "}\n",
              "\n",
              ".sk-estimator-doc-link.fitted span {\n",
              "  /* fitted */\n",
              "  background: var(--sklearn-color-fitted-level-0);\n",
              "  border: var(--sklearn-color-fitted-level-3);\n",
              "}\n",
              "\n",
              ".sk-estimator-doc-link:hover span {\n",
              "  display: block;\n",
              "}\n",
              "\n",
              "/* \"?\"-specific style due to the `<a>` HTML tag */\n",
              "\n",
              "#sk-container-id-1 a.estimator_doc_link {\n",
              "  float: right;\n",
              "  font-size: 1rem;\n",
              "  line-height: 1em;\n",
              "  font-family: monospace;\n",
              "  background-color: var(--sklearn-color-background);\n",
              "  border-radius: 1rem;\n",
              "  height: 1rem;\n",
              "  width: 1rem;\n",
              "  text-decoration: none;\n",
              "  /* unfitted */\n",
              "  color: var(--sklearn-color-unfitted-level-1);\n",
              "  border: var(--sklearn-color-unfitted-level-1) 1pt solid;\n",
              "}\n",
              "\n",
              "#sk-container-id-1 a.estimator_doc_link.fitted {\n",
              "  /* fitted */\n",
              "  border: var(--sklearn-color-fitted-level-1) 1pt solid;\n",
              "  color: var(--sklearn-color-fitted-level-1);\n",
              "}\n",
              "\n",
              "/* On hover */\n",
              "#sk-container-id-1 a.estimator_doc_link:hover {\n",
              "  /* unfitted */\n",
              "  background-color: var(--sklearn-color-unfitted-level-3);\n",
              "  color: var(--sklearn-color-background);\n",
              "  text-decoration: none;\n",
              "}\n",
              "\n",
              "#sk-container-id-1 a.estimator_doc_link.fitted:hover {\n",
              "  /* fitted */\n",
              "  background-color: var(--sklearn-color-fitted-level-3);\n",
              "}\n",
              "</style><div id=\"sk-container-id-1\" class=\"sk-top-container\"><div class=\"sk-text-repr-fallback\"><pre>LogisticRegression()</pre><b>In a Jupyter environment, please rerun this cell to show the HTML representation or trust the notebook. <br />On GitHub, the HTML representation is unable to render, please try loading this page with nbviewer.org.</b></div><div class=\"sk-container\" hidden><div class=\"sk-item\"><div class=\"sk-estimator fitted sk-toggleable\"><input class=\"sk-toggleable__control sk-hidden--visually\" id=\"sk-estimator-id-1\" type=\"checkbox\" checked><label for=\"sk-estimator-id-1\" class=\"sk-toggleable__label fitted sk-toggleable__label-arrow\"><div><div>LogisticRegression</div></div><div><a class=\"sk-estimator-doc-link fitted\" rel=\"noreferrer\" target=\"_blank\" href=\"https://scikit-learn.org/1.6/modules/generated/sklearn.linear_model.LogisticRegression.html\">?<span>Documentation for LogisticRegression</span></a><span class=\"sk-estimator-doc-link fitted\">i<span>Fitted</span></span></div></label><div class=\"sk-toggleable__content fitted\"><pre>LogisticRegression()</pre></div> </div></div></div></div>"
            ]
          },
          "metadata": {},
          "execution_count": 54
        }
      ]
    },
    {
      "cell_type": "code",
      "source": [
        "# accuracy score\n",
        "X_train_prediction = model.predict(X_train)\n",
        "training_data_accuracy = accuracy_score(X_train_prediction, Y_train)\n"
      ],
      "metadata": {
        "id": "mEWpzBQ7Ojwp"
      },
      "execution_count": 55,
      "outputs": []
    },
    {
      "cell_type": "code",
      "source": [
        "print('Accuracy score of the training data : ', training_data_accuracy)"
      ],
      "metadata": {
        "colab": {
          "base_uri": "https://localhost:8080/"
        },
        "id": "tldOMPoUPG2j",
        "outputId": "d35034c7-11ef-44ba-ea9a-61e1c6b1acb9"
      },
      "execution_count": 56,
      "outputs": [
        {
          "output_type": "stream",
          "name": "stdout",
          "text": [
            "Accuracy score of the training data :  0.9999166666666667\n"
          ]
        }
      ]
    },
    {
      "cell_type": "code",
      "source": [
        "X_test_prediction = model.predict(X_test)\n",
        "test_data_accuracy = accuracy_score(X_test_prediction, Y_test)"
      ],
      "metadata": {
        "id": "VfOkvHWRPKZn"
      },
      "execution_count": 57,
      "outputs": []
    },
    {
      "cell_type": "code",
      "source": [
        "print('Accuracy score of the test data : ', test_data_accuracy)"
      ],
      "metadata": {
        "colab": {
          "base_uri": "https://localhost:8080/"
        },
        "id": "T7mbji9_PdnT",
        "outputId": "91e3c857-556d-4cb7-a112-9b217dd9469a"
      },
      "execution_count": 58,
      "outputs": [
        {
          "output_type": "stream",
          "name": "stdout",
          "text": [
            "Accuracy score of the test data :  1.0\n"
          ]
        }
      ]
    },
    {
      "cell_type": "markdown",
      "source": [
        "Predictive System"
      ],
      "metadata": {
        "id": "9b0BUDCrP3ef"
      }
    },
    {
      "cell_type": "code",
      "source": [
        "X_new = X_test[111]\n",
        "\n",
        "prediction = model.predict(X_new)\n",
        "print(prediction)\n",
        "\n",
        "if (prediction[0]==0):\n",
        "  print('The news is Real')\n",
        "else:\n",
        "  print('The news is Fake')"
      ],
      "metadata": {
        "colab": {
          "base_uri": "https://localhost:8080/"
        },
        "id": "6hkvAvRNPfgc",
        "outputId": "7bc6bd56-51b2-411a-d862-f7880d93d55f"
      },
      "execution_count": 64,
      "outputs": [
        {
          "output_type": "stream",
          "name": "stdout",
          "text": [
            "[1]\n",
            "The news is Fake\n"
          ]
        }
      ]
    }
  ]
}